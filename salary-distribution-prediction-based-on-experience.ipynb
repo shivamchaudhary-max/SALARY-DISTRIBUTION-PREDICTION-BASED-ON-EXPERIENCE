{
 "cells": [
  {
   "cell_type": "code",
   "execution_count": 1,
   "id": "410e91e4",
   "metadata": {
    "execution": {
     "iopub.execute_input": "2022-01-19T18:48:06.171199Z",
     "iopub.status.busy": "2022-01-19T18:48:06.166383Z",
     "iopub.status.idle": "2022-01-19T18:48:07.399989Z",
     "shell.execute_reply": "2022-01-19T18:48:07.399127Z",
     "shell.execute_reply.started": "2022-01-19T18:29:11.023765Z"
    },
    "papermill": {
     "duration": 1.249552,
     "end_time": "2022-01-19T18:48:07.400170",
     "exception": false,
     "start_time": "2022-01-19T18:48:06.150618",
     "status": "completed"
    },
    "tags": []
   },
   "outputs": [],
   "source": [
    "import numpy as np\n",
    "\n",
    "  # Load libraries\n",
    "import pandas as pd\n",
    "from sklearn.tree import DecisionTreeClassifier # Import Decision Tree Classifier\n",
    "from sklearn.model_selection import train_test_split # Import train_test_split function\n",
    "from sklearn import metrics #Import scikit-learn metrics module for accuracy calculation"
   ]
  },
  {
   "cell_type": "code",
   "execution_count": 2,
   "id": "4829c6e9",
   "metadata": {
    "execution": {
     "iopub.execute_input": "2022-01-19T18:48:07.427830Z",
     "iopub.status.busy": "2022-01-19T18:48:07.425562Z",
     "iopub.status.idle": "2022-01-19T18:48:07.444125Z",
     "shell.execute_reply": "2022-01-19T18:48:07.443395Z",
     "shell.execute_reply.started": "2022-01-19T18:30:42.542330Z"
    },
    "papermill": {
     "duration": 0.032759,
     "end_time": "2022-01-19T18:48:07.444287",
     "exception": false,
     "start_time": "2022-01-19T18:48:07.411528",
     "status": "completed"
    },
    "tags": []
   },
   "outputs": [],
   "source": [
    "salary=pd.read_csv('../input/salary-dataset/salary_data.csv')"
   ]
  },
  {
   "cell_type": "code",
   "execution_count": 3,
   "id": "039d8d9f",
   "metadata": {
    "execution": {
     "iopub.execute_input": "2022-01-19T18:48:07.475859Z",
     "iopub.status.busy": "2022-01-19T18:48:07.469457Z",
     "iopub.status.idle": "2022-01-19T18:48:07.488272Z",
     "shell.execute_reply": "2022-01-19T18:48:07.488806Z",
     "shell.execute_reply.started": "2022-01-19T18:30:54.920623Z"
    },
    "papermill": {
     "duration": 0.033571,
     "end_time": "2022-01-19T18:48:07.488984",
     "exception": false,
     "start_time": "2022-01-19T18:48:07.455413",
     "status": "completed"
    },
    "tags": []
   },
   "outputs": [
    {
     "data": {
      "text/html": [
       "<div>\n",
       "<style scoped>\n",
       "    .dataframe tbody tr th:only-of-type {\n",
       "        vertical-align: middle;\n",
       "    }\n",
       "\n",
       "    .dataframe tbody tr th {\n",
       "        vertical-align: top;\n",
       "    }\n",
       "\n",
       "    .dataframe thead th {\n",
       "        text-align: right;\n",
       "    }\n",
       "</style>\n",
       "<table border=\"1\" class=\"dataframe\">\n",
       "  <thead>\n",
       "    <tr style=\"text-align: right;\">\n",
       "      <th></th>\n",
       "      <th>YearsExperience</th>\n",
       "      <th>Salary</th>\n",
       "    </tr>\n",
       "  </thead>\n",
       "  <tbody>\n",
       "    <tr>\n",
       "      <th>0</th>\n",
       "      <td>1.1</td>\n",
       "      <td>39343</td>\n",
       "    </tr>\n",
       "    <tr>\n",
       "      <th>1</th>\n",
       "      <td>1.3</td>\n",
       "      <td>46205</td>\n",
       "    </tr>\n",
       "    <tr>\n",
       "      <th>2</th>\n",
       "      <td>1.5</td>\n",
       "      <td>37731</td>\n",
       "    </tr>\n",
       "    <tr>\n",
       "      <th>3</th>\n",
       "      <td>2.0</td>\n",
       "      <td>43525</td>\n",
       "    </tr>\n",
       "    <tr>\n",
       "      <th>4</th>\n",
       "      <td>2.2</td>\n",
       "      <td>39891</td>\n",
       "    </tr>\n",
       "  </tbody>\n",
       "</table>\n",
       "</div>"
      ],
      "text/plain": [
       "   YearsExperience  Salary\n",
       "0              1.1   39343\n",
       "1              1.3   46205\n",
       "2              1.5   37731\n",
       "3              2.0   43525\n",
       "4              2.2   39891"
      ]
     },
     "execution_count": 3,
     "metadata": {},
     "output_type": "execute_result"
    }
   ],
   "source": [
    "salary.head()"
   ]
  },
  {
   "cell_type": "code",
   "execution_count": 4,
   "id": "19905d12",
   "metadata": {
    "execution": {
     "iopub.execute_input": "2022-01-19T18:48:07.515841Z",
     "iopub.status.busy": "2022-01-19T18:48:07.514796Z",
     "iopub.status.idle": "2022-01-19T18:48:07.522206Z",
     "shell.execute_reply": "2022-01-19T18:48:07.522761Z",
     "shell.execute_reply.started": "2022-01-19T18:31:12.365166Z"
    },
    "papermill": {
     "duration": 0.022426,
     "end_time": "2022-01-19T18:48:07.522939",
     "exception": false,
     "start_time": "2022-01-19T18:48:07.500513",
     "status": "completed"
    },
    "tags": []
   },
   "outputs": [],
   "source": [
    "x4=salary.iloc[:,[0]]\n",
    "y4=salary.iloc[:,1]"
   ]
  },
  {
   "cell_type": "code",
   "execution_count": 5,
   "id": "75744d36",
   "metadata": {
    "execution": {
     "iopub.execute_input": "2022-01-19T18:48:07.549694Z",
     "iopub.status.busy": "2022-01-19T18:48:07.548692Z",
     "iopub.status.idle": "2022-01-19T18:48:07.556052Z",
     "shell.execute_reply": "2022-01-19T18:48:07.556578Z",
     "shell.execute_reply.started": "2022-01-19T18:31:24.456542Z"
    },
    "papermill": {
     "duration": 0.022655,
     "end_time": "2022-01-19T18:48:07.556770",
     "exception": false,
     "start_time": "2022-01-19T18:48:07.534115",
     "status": "completed"
    },
    "tags": []
   },
   "outputs": [],
   "source": [
    "# Split dataset into training set and test set\n",
    "x4_train,x4_test,y4_train,y4_test = train_test_split(x4,y4, test_size=0.3, random_state=1)"
   ]
  },
  {
   "cell_type": "code",
   "execution_count": 6,
   "id": "2b1e7b0c",
   "metadata": {
    "execution": {
     "iopub.execute_input": "2022-01-19T18:48:07.583343Z",
     "iopub.status.busy": "2022-01-19T18:48:07.582280Z",
     "iopub.status.idle": "2022-01-19T18:48:07.606370Z",
     "shell.execute_reply": "2022-01-19T18:48:07.606870Z",
     "shell.execute_reply.started": "2022-01-19T18:39:06.523584Z"
    },
    "papermill": {
     "duration": 0.03903,
     "end_time": "2022-01-19T18:48:07.607059",
     "exception": false,
     "start_time": "2022-01-19T18:48:07.568029",
     "status": "completed"
    },
    "tags": []
   },
   "outputs": [
    {
     "data": {
      "text/plain": [
       "LinearRegression()"
      ]
     },
     "execution_count": 6,
     "metadata": {},
     "output_type": "execute_result"
    }
   ],
   "source": [
    "# Create linear regression object\n",
    "from sklearn.linear_model import LinearRegression\n",
    "regr = LinearRegression()\n",
    "\n",
    "# Train the model using the training sets\n",
    "regr.fit(x4_train,y4_train)\n"
   ]
  },
  {
   "cell_type": "code",
   "execution_count": 7,
   "id": "8ba191ef",
   "metadata": {
    "execution": {
     "iopub.execute_input": "2022-01-19T18:48:07.637758Z",
     "iopub.status.busy": "2022-01-19T18:48:07.636650Z",
     "iopub.status.idle": "2022-01-19T18:48:07.640695Z",
     "shell.execute_reply": "2022-01-19T18:48:07.641278Z",
     "shell.execute_reply.started": "2022-01-19T18:39:54.226945Z"
    },
    "papermill": {
     "duration": 0.022808,
     "end_time": "2022-01-19T18:48:07.641456",
     "exception": false,
     "start_time": "2022-01-19T18:48:07.618648",
     "status": "completed"
    },
    "tags": []
   },
   "outputs": [
    {
     "name": "stdout",
     "output_type": "stream",
     "text": [
      "[ 74821.41578619  91385.43626305  61938.28874864  81262.97930497\n",
      "  67459.62890759  88624.76618357 113470.79689886  44454.04491195\n",
      " 106109.01002026]\n"
     ]
    }
   ],
   "source": [
    "# Make predictions using the testing set\n",
    "y4_pred = regr.predict(x4_test)\n",
    "print(y4_pred)"
   ]
  },
  {
   "cell_type": "code",
   "execution_count": 8,
   "id": "8998f10d",
   "metadata": {
    "execution": {
     "iopub.execute_input": "2022-01-19T18:48:07.672243Z",
     "iopub.status.busy": "2022-01-19T18:48:07.671561Z",
     "iopub.status.idle": "2022-01-19T18:48:07.674086Z",
     "shell.execute_reply": "2022-01-19T18:48:07.674585Z",
     "shell.execute_reply.started": "2022-01-19T18:40:11.557855Z"
    },
    "papermill": {
     "duration": 0.020579,
     "end_time": "2022-01-19T18:48:07.674794",
     "exception": false,
     "start_time": "2022-01-19T18:48:07.654215",
     "status": "completed"
    },
    "tags": []
   },
   "outputs": [
    {
     "name": "stdout",
     "output_type": "stream",
     "text": [
      "[72060.74570672]\n"
     ]
    }
   ],
   "source": [
    "print(regr.predict([[5]]))"
   ]
  },
  {
   "cell_type": "code",
   "execution_count": 9,
   "id": "cdd0a95c",
   "metadata": {
    "execution": {
     "iopub.execute_input": "2022-01-19T18:48:07.706477Z",
     "iopub.status.busy": "2022-01-19T18:48:07.704950Z",
     "iopub.status.idle": "2022-01-19T18:48:07.710228Z",
     "shell.execute_reply": "2022-01-19T18:48:07.710975Z",
     "shell.execute_reply.started": "2022-01-19T18:45:17.154449Z"
    },
    "papermill": {
     "duration": 0.023967,
     "end_time": "2022-01-19T18:48:07.711211",
     "exception": false,
     "start_time": "2022-01-19T18:48:07.687244",
     "status": "completed"
    },
    "tags": []
   },
   "outputs": [
    {
     "name": "stdout",
     "output_type": "stream",
     "text": [
      "Coefficients: \n",
      " [9202.23359825]\n",
      "Mean squared error: 39139216.00\n"
     ]
    }
   ],
   "source": [
    "# The coefficients\n",
    "from sklearn.metrics import mean_squared_error\n",
    "# The coefficients\n",
    "print('Coefficients: \\n', regr.coef_)\n",
    "\n",
    "# The mean squared error\n",
    "print(\"Mean squared error: %.2f\" % mean_squared_error(y4_test,y4_pred))\n",
    "\n"
   ]
  },
  {
   "cell_type": "code",
   "execution_count": 10,
   "id": "9f49305f",
   "metadata": {
    "execution": {
     "iopub.execute_input": "2022-01-19T18:48:07.742925Z",
     "iopub.status.busy": "2022-01-19T18:48:07.740728Z",
     "iopub.status.idle": "2022-01-19T18:48:07.748323Z",
     "shell.execute_reply": "2022-01-19T18:48:07.747280Z",
     "shell.execute_reply.started": "2022-01-19T18:45:58.664508Z"
    },
    "papermill": {
     "duration": 0.023994,
     "end_time": "2022-01-19T18:48:07.748595",
     "exception": false,
     "start_time": "2022-01-19T18:48:07.724601",
     "status": "completed"
    },
    "tags": []
   },
   "outputs": [
    {
     "name": "stdout",
     "output_type": "stream",
     "text": [
      "Variance score: 0.92\n"
     ]
    }
   ],
   "source": [
    "# Explained variance score: 1 is perfect prediction\n",
    "from sklearn.metrics import r2_score\n",
    "print('Variance score: %.2f' % r2_score(y4_test,y4_pred))"
   ]
  },
  {
   "cell_type": "code",
   "execution_count": 11,
   "id": "2536fe75",
   "metadata": {
    "execution": {
     "iopub.execute_input": "2022-01-19T18:48:07.786943Z",
     "iopub.status.busy": "2022-01-19T18:48:07.786232Z",
     "iopub.status.idle": "2022-01-19T18:48:07.890253Z",
     "shell.execute_reply": "2022-01-19T18:48:07.891264Z",
     "shell.execute_reply.started": "2022-01-19T18:47:13.110886Z"
    },
    "papermill": {
     "duration": 0.128105,
     "end_time": "2022-01-19T18:48:07.891562",
     "exception": false,
     "start_time": "2022-01-19T18:48:07.763457",
     "status": "completed"
    },
    "tags": []
   },
   "outputs": [
    {
     "data": {
      "image/png": "[encoded data removed]",
      "text/plain": [
       "<Figure size 432x288 with 1 Axes>"
      ]
     },
     "metadata": {},
     "output_type": "display_data"
    }
   ],
   "source": [
    "# Plot outputs\n",
    "import matplotlib.pyplot as plt\n",
    "plt.scatter(x4_test.iloc[:,0],y4_test,  color='black')\n",
    "plt.plot(x4_test,y4_pred, color='blue', linewidth=3)\n",
    "\n",
    "plt.xticks(())\n",
    "plt.yticks(())\n",
    "\n",
    "plt.show()"
   ]
  },
  {
   "cell_type": "code",
   "execution_count": null,
   "id": "50e39643",
   "metadata": {
    "papermill": {
     "duration": 0.024745,
     "end_time": "2022-01-19T18:48:07.941416",
     "exception": false,
     "start_time": "2022-01-19T18:48:07.916671",
     "status": "completed"
    },
    "tags": []
   },
   "outputs": [],
   "source": []
  }
 ],
 "metadata": {
  "kernelspec": {
   "display_name": "Python 3",
   "language": "python",
   "name": "python3"
  },
  "language_info": {
   "codemirror_mode": {
    "name": "ipython",
    "version": 3
   },
   "file_extension": ".py",
   "mimetype": "text/x-python",
   "name": "python",
   "nbconvert_exporter": "python",
   "pygments_lexer": "ipython3",
   "version": "3.7.12"
  },
  "papermill": {
   "default_parameters": {},
   "duration": 12.504142,
   "end_time": "2022-01-19T18:48:08.671786",
   "environment_variables": {},
   "exception": null,
   "input_path": "__notebook__.ipynb",
   "output_path": "__notebook__.ipynb",
   "parameters": {},
   "start_time": "2022-01-19T18:47:56.167644",
   "version": "2.3.3"
  }
 },
 "nbformat": 4,
 "nbformat_minor": 5
}
